{
 "cells": [
  {
   "cell_type": "markdown",
   "id": "b2b25f4a",
   "metadata": {},
   "source": [
    "We need to clean up medical patient records, which are currently stored in one large string."
   ]
  },
  {
   "cell_type": "code",
   "execution_count": 2,
   "id": "ec5bad66",
   "metadata": {},
   "outputs": [],
   "source": [
    "medical_data = \\\n",
    "\"\"\"Marina Allison   ,27   ,   31.1 , \n",
    "#7010.0   ;Markus Valdez   ,   30, \n",
    "22.4,   #4050.0 ;Connie Ballard ,43 \n",
    ",   25.3 , #12060.0 ;Darnell Weber   \n",
    ",   35   , 20.6   , #7500.0;\n",
    "Sylvie Charles   ,22, 22.1 \n",
    ",#3022.0   ;   Vinay Padilla,24,   \n",
    "26.9 ,#4620.0 ;Meredith Santiago, 51   , \n",
    "29.3 ,#16330.0;   Andre Mccarty, \n",
    "19,22.7 , #2900.0 ; \n",
    "Lorena Hodson ,65, 33.1 , #19370.0; \n",
    "Isaac Vu ,34, 24.8,   #7045.0\"\"\""
   ]
  },
  {
   "cell_type": "markdown",
   "id": "ec757071",
   "metadata": {},
   "source": [
    "1. We want the insurance costs to be represented in US dollars."
   ]
  },
  {
   "cell_type": "code",
   "execution_count": 13,
   "id": "21c94e51",
   "metadata": {},
   "outputs": [
    {
     "name": "stdout",
     "output_type": "stream",
     "text": [
      "Marina Allison   ,27   ,   31.1 , \n",
      "$7010.0   ;Markus Valdez   ,   30, \n",
      "22.4,   $4050.0 ;Connie Ballard ,43 \n",
      ",   25.3 , $12060.0 ;Darnell Weber   \n",
      ",   35   , 20.6   , $7500.0;\n",
      "Sylvie Charles   ,22, 22.1 \n",
      ",$3022.0   ;   Vinay Padilla,24,   \n",
      "26.9 ,$4620.0 ;Meredith Santiago, 51   , \n",
      "29.3 ,$16330.0;   Andre Mccarty, \n",
      "19,22.7 , $2900.0 ; \n",
      "Lorena Hodson ,65, 33.1 , $19370.0; \n",
      "Isaac Vu ,34, 24.8,   $7045.0\n"
     ]
    }
   ],
   "source": [
    "medical_data_replace=medical_data.replace('#',\"$\")\n",
    "print(medical_data_replace)"
   ]
  },
  {
   "cell_type": "markdown",
   "id": "af3b849c",
   "metadata": {},
   "source": [
    "2. The medical data in its current form is difficult to analyze. An essential job for a data scientist is to clean up data so that it’s easy to work with.\n",
    "\n",
    "Let’s start off by splitting the updated_medical_data string into a list of each medical record."
   ]
  },
  {
   "cell_type": "code",
   "execution_count": 17,
   "id": "978d89ae",
   "metadata": {},
   "outputs": [
    {
     "name": "stdout",
     "output_type": "stream",
     "text": [
      "[['Marina Allison   ', '27   ', '   31.1 ', ' \\n$7010.0   '], ['Markus Valdez   ', '   30', ' \\n22.4', '   $4050.0 '], ['Connie Ballard ', '43 \\n', '   25.3 ', ' $12060.0 '], ['Darnell Weber   \\n', '   35   ', ' 20.6   ', ' $7500.0'], ['\\nSylvie Charles   ', '22', ' 22.1 \\n', '$3022.0   '], ['   Vinay Padilla', '24', '   \\n26.9 ', '$4620.0 '], ['Meredith Santiago', ' 51   ', ' \\n29.3 ', '$16330.0'], ['   Andre Mccarty', ' \\n19', '22.7 ', ' $2900.0 '], [' \\nLorena Hodson ', '65', ' 33.1 ', ' $19370.0'], [' \\nIsaac Vu ', '34', ' 24.8', '   $7045.0']]\n"
     ]
    }
   ],
   "source": [
    "medical_data_split=medical_data_replace.split(';')\n",
    "medical_records=[]\n",
    "for string in medical_data_split:\n",
    "    medical_records.append(string.split(','))\n",
    "print(medical_records)"
   ]
  },
  {
   "cell_type": "markdown",
   "id": "468b7d83",
   "metadata": {},
   "source": [
    "3. Cleaning Data"
   ]
  },
  {
   "cell_type": "code",
   "execution_count": 18,
   "id": "a07f1141",
   "metadata": {},
   "outputs": [
    {
     "name": "stdout",
     "output_type": "stream",
     "text": [
      "[['Marina Allison', '27', '31.1', '$7010.0'], ['Markus Valdez', '30', '22.4', '$4050.0'], ['Connie Ballard', '43', '25.3', '$12060.0'], ['Darnell Weber', '35', '20.6', '$7500.0'], ['Sylvie Charles', '22', '22.1', '$3022.0'], ['Vinay Padilla', '24', '26.9', '$4620.0'], ['Meredith Santiago', '51', '29.3', '$16330.0'], ['Andre Mccarty', '19', '22.7', '$2900.0'], ['Lorena Hodson', '65', '33.1', '$19370.0'], ['Isaac Vu', '34', '24.8', '$7045.0']]\n"
     ]
    }
   ],
   "source": [
    "medical_records_clean=[]\n",
    "for record in medical_records:\n",
    "    record_clean=[]\n",
    "    for item in record:\n",
    "        record_clean.append(item.strip())\n",
    "    medical_records_clean.append(record_clean)\n",
    "print(medical_records_clean)"
   ]
  },
  {
   "cell_type": "markdown",
   "id": "12ddddc2",
   "metadata": {},
   "source": [
    "4. Analyzing Data"
   ]
  },
  {
   "cell_type": "code",
   "execution_count": 20,
   "id": "e77c2021",
   "metadata": {},
   "outputs": [
    {
     "name": "stdout",
     "output_type": "stream",
     "text": [
      "Names: ['Marina Allison', 'Markus Valdez', 'Connie Ballard', 'Darnell Weber', 'Sylvie Charles', 'Vinay Padilla', 'Meredith Santiago', 'Andre Mccarty', 'Lorena Hodson', 'Isaac Vu']\n",
      "Ages: ['27', '30', '43', '35', '22', '24', '51', '19', '65', '34']\n",
      "BMI: ['31.1', '22.4', '25.3', '20.6', '22.1', '26.9', '29.3', '22.7', '33.1', '24.8']\n",
      "Insurance Costs: ['$7010.0', '$4050.0', '$12060.0', '$7500.0', '$3022.0', '$4620.0', '$16330.0', '$2900.0', '$19370.0', '$7045.0']\n"
     ]
    }
   ],
   "source": [
    "names = []\n",
    "ages = []\n",
    "bmis = []\n",
    "insurance_costs = []\n",
    "for record in medical_records_clean:\n",
    "  names.append(record[0])\n",
    "  ages.append(record[1])\n",
    "  bmis.append(record[2])\n",
    "  insurance_costs.append(record[3])\n",
    "print(\"Names: \" + str(names))\n",
    "print(\"Ages: \" + str(ages))\n",
    "print(\"BMI: \"  + str(bmis))\n",
    "print(\"Insurance Costs: \" + str(insurance_costs))"
   ]
  },
  {
   "cell_type": "code",
   "execution_count": 21,
   "id": "67f0d825",
   "metadata": {},
   "outputs": [
    {
     "name": "stdout",
     "output_type": "stream",
     "text": [
      "Average BMI: 25.830000000000002\n"
     ]
    }
   ],
   "source": [
    "total_bmi=0\n",
    "for bmi in bmis:\n",
    "  total_bmi += float(bmi)\n",
    "average_bmi = total_bmi/len(bmis)\n",
    "print(\"Average BMI: \" + str(average_bmi))"
   ]
  },
  {
   "cell_type": "code",
   "execution_count": 25,
   "id": "569ea5dc",
   "metadata": {},
   "outputs": [
    {
     "name": "stdout",
     "output_type": "stream",
     "text": [
      "Average Insurance Cost: 8390.7\n"
     ]
    }
   ],
   "source": [
    "\n",
    "total_insurance_cost=0\n",
    "for insurance_cost in insurance_costs:\n",
    "  total_insurance_cost += float(insurance_cost[1:])\n",
    "average_insurance_cost = total_insurance_cost/len(insurance_costs)\n",
    "print(\"Average Insurance Cost: \" + str(average_insurance_cost))"
   ]
  }
 ],
 "metadata": {
  "kernelspec": {
   "display_name": "Python 3 (ipykernel)",
   "language": "python",
   "name": "python3"
  },
  "language_info": {
   "codemirror_mode": {
    "name": "ipython",
    "version": 3
   },
   "file_extension": ".py",
   "mimetype": "text/x-python",
   "name": "python",
   "nbconvert_exporter": "python",
   "pygments_lexer": "ipython3",
   "version": "3.11.4"
  }
 },
 "nbformat": 4,
 "nbformat_minor": 5
}
