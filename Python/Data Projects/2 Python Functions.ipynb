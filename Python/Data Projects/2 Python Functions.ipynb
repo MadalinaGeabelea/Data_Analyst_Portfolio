{
 "cells": [
  {
   "cell_type": "markdown",
   "id": "080ae5a4",
   "metadata": {},
   "source": [
    "# Python Functions: Medical Insurance Project"
   ]
  },
  {
   "cell_type": "markdown",
   "id": "b3ac2fa2",
   "metadata": {},
   "source": [
    "# Creating a function"
   ]
  },
  {
   "cell_type": "markdown",
   "id": "53abd494",
   "metadata": {},
   "source": [
    "1. In this code, we estimate the medical insurance costs for two individuals, Maria and Omar, based on five variables:\n",
    "\n",
    "age: age of the individual in years\n",
    "sex: 0 for female, 1 for male\n",
    "bmi: individual’s body mass index\n",
    "num_of_children: number of children the individual has\n",
    "smoker: 0 for a non-smoker, 1 for a smoker\n",
    "These variables are used in the following formula to estimate an individual’s insurance cost (in USD):\n",
    "insurance_cost=250∗age−128∗sex+370∗bmi+425∗num_of_children+24000∗smoker−12500"
   ]
  },
  {
   "cell_type": "code",
   "execution_count": 4,
   "id": "e9ae3830",
   "metadata": {},
   "outputs": [
    {
     "name": "stdout",
     "output_type": "stream",
     "text": [
      "The estimated insurance cost for Maria is 28336.0 dollars.\n",
      "The estimated insurance cost for Omar is 28336.0 dollars.\n"
     ]
    }
   ],
   "source": [
    "# Initial variables for Maria \n",
    "ageM = 28\n",
    "sexM = 0  \n",
    "bmiM = 26.2\n",
    "num_of_childrenM = 3\n",
    "smokerM = 0  \n",
    "\n",
    "# Estimate Maria's insurance cost\n",
    "insurance_cost = 250*age - 128*sex + 370*bmi + 425*num_of_children + 24000*smoker - 12500\n",
    "\n",
    "print(\"The estimated insurance cost for Maria is \" + str(insurance_cost) + \" dollars.\")\n",
    "\n",
    "# Initial variables for Omar\n",
    "ageO = 35\n",
    "sexO = 1 \n",
    "bmiO = 22.2\n",
    "num_of_childrenO = 0\n",
    "smokerO = 1  \n",
    "\n",
    "# Estimate Omar's insurance cost \n",
    "insurance_cost = 250*age - 128*sex + 370*bmi + 425*num_of_children + 24000*smoker - 12500\n",
    "\n",
    "print(\"The estimated insurance cost for Omar is \" + str(insurance_cost) + \" dollars.\")"
   ]
  },
  {
   "cell_type": "markdown",
   "id": "1ef0ccf7",
   "metadata": {},
   "source": [
    "2. We create a function that will calculate the insurance cost"
   ]
  },
  {
   "cell_type": "code",
   "execution_count": 10,
   "id": "fd35772f",
   "metadata": {},
   "outputs": [],
   "source": [
    "def calculate_insurance_cost(name,age, sex, bmi, num_of_children, smoker):\n",
    "    estimated_cost=250*age - 128*sex + 370*bmi + 425*num_of_children + 24000*smoker - 12500\n",
    "    print(\"The estimated insurance cost for \"+name+\" person is \"+str(estimated_cost)+\" dollars.\")\n",
    "    return estimated_cost"
   ]
  },
  {
   "cell_type": "markdown",
   "id": "3ca97d02",
   "metadata": {},
   "source": [
    "3. Calling the function for Maria and Omar"
   ]
  },
  {
   "cell_type": "code",
   "execution_count": 11,
   "id": "109613ee",
   "metadata": {},
   "outputs": [
    {
     "name": "stdout",
     "output_type": "stream",
     "text": [
      "The estimated insurance cost for Maria person is 5469.0 dollars.\n",
      "The estimated insurance cost for Omar person is 28336.0 dollars.\n"
     ]
    }
   ],
   "source": [
    "maria_insurance_cost=calculate_insurance_cost('Maria',ageM, sexM, bmiM, num_of_childrenM, smokerM)\n",
    "Omar_insurance_cost=calculate_insurance_cost('Omar',ageO, sexO, bmiO, num_of_childrenO, smokerO)"
   ]
  }
 ],
 "metadata": {
  "kernelspec": {
   "display_name": "Python 3 (ipykernel)",
   "language": "python",
   "name": "python3"
  },
  "language_info": {
   "codemirror_mode": {
    "name": "ipython",
    "version": 3
   },
   "file_extension": ".py",
   "mimetype": "text/x-python",
   "name": "python",
   "nbconvert_exporter": "python",
   "pygments_lexer": "ipython3",
   "version": "3.11.4"
  }
 },
 "nbformat": 4,
 "nbformat_minor": 5
}
