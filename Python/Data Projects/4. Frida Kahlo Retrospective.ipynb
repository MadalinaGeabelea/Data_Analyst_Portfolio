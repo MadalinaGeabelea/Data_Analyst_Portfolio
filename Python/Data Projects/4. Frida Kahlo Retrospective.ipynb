{
 "cells": [
  {
   "cell_type": "markdown",
   "id": "dc989d0c",
   "metadata": {},
   "source": [
    "We'll work on a retrospective of Frida Kahlo’s work at a major museum in Mexico.\n",
    "\n",
    "The job is to put together the audio tour, but in order to do that, we need to create a list of each painting featured in the exhibit, the date it was painted, and its spot on the tour."
   ]
  },
  {
   "cell_type": "code",
   "execution_count": 1,
   "id": "337cdcbd",
   "metadata": {},
   "outputs": [],
   "source": [
    "paintings=['The Two Fridas', 'My Dress Hangs Here', 'Tree of Hope', 'Self Portrait With Monkeys']\n",
    "dates=[1939, 1933, 1946, 1940]"
   ]
  },
  {
   "cell_type": "markdown",
   "id": "02b2b0f4",
   "metadata": {},
   "source": [
    "1. It doesn’t do much good to have the paintings without their dates, and vice versa. We'll zip together the two lists so that each painting is paired with its date and resave it to the paintings variable"
   ]
  },
  {
   "cell_type": "code",
   "execution_count": 2,
   "id": "d98059e3",
   "metadata": {},
   "outputs": [
    {
     "name": "stdout",
     "output_type": "stream",
     "text": [
      "[('The Two Fridas', 1939), ('My Dress Hangs Here', 1933), ('Tree of Hope', 1946), ('Self Portrait With Monkeys', 1940)]\n"
     ]
    }
   ],
   "source": [
    "paintings=list(zip(paintings,dates))\n",
    "print(paintings)"
   ]
  },
  {
   "cell_type": "markdown",
   "id": "a7487d2c",
   "metadata": {},
   "source": [
    "2. There were some last minute additions to the show that we need to add to our list. Append the following paintings to our paintings list then re-print to check they were added correctly:\n",
    "\n",
    "'The Broken Column', 1944\n",
    "'The Wounded Deer', 1946\n",
    "'Me and My Doll', 1937"
   ]
  },
  {
   "cell_type": "code",
   "execution_count": 3,
   "id": "343891db",
   "metadata": {},
   "outputs": [
    {
     "name": "stdout",
     "output_type": "stream",
     "text": [
      "[('The Two Fridas', 1939), ('My Dress Hangs Here', 1933), ('Tree of Hope', 1946), ('Self Portrait With Monkeys', 1940), ('The Broken Column', 1944), ('The Wounded Deer', 1946), ('Me and My Doll', 1937)]\n"
     ]
    }
   ],
   "source": [
    "new=[('The Broken Column',1944),('The Wounded Deer',1946),('Me and My Doll',1937)]\n",
    "\n",
    "for paint in new:\n",
    "  paintings.append(paint)\n",
    "\n",
    "print(paintings)"
   ]
  },
  {
   "cell_type": "markdown",
   "id": "6de962cd",
   "metadata": {},
   "source": [
    "3. Since each of these paintings is going to be in the audio tour, they each need a unique identification number. "
   ]
  },
  {
   "cell_type": "code",
   "execution_count": 4,
   "id": "38888c0a",
   "metadata": {},
   "outputs": [
    {
     "name": "stdout",
     "output_type": "stream",
     "text": [
      "[(1, ('The Two Fridas', 1939)), (2, ('My Dress Hangs Here', 1933)), (3, ('Tree of Hope', 1946)), (4, ('Self Portrait With Monkeys', 1940)), (5, ('The Broken Column', 1944)), (6, ('The Wounded Deer', 1946)), (7, ('Me and My Doll', 1937))]\n"
     ]
    }
   ],
   "source": [
    "audio_tour_number=range(1,len(paintings)+1)\n",
    "\n",
    "master_list=list(zip(audio_tour_number,paintings))\n",
    "print(master_list)"
   ]
  }
 ],
 "metadata": {
  "kernelspec": {
   "display_name": "Python 3 (ipykernel)",
   "language": "python",
   "name": "python3"
  },
  "language_info": {
   "codemirror_mode": {
    "name": "ipython",
    "version": 3
   },
   "file_extension": ".py",
   "mimetype": "text/x-python",
   "name": "python",
   "nbconvert_exporter": "python",
   "pygments_lexer": "ipython3",
   "version": "3.11.4"
  }
 },
 "nbformat": 4,
 "nbformat_minor": 5
}
