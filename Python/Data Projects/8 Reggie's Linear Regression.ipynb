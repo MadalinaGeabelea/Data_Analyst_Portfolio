{
 "cells": [
  {
   "cell_type": "markdown",
   "id": "0f31a646",
   "metadata": {},
   "source": [
    "Reggie is a mad scientist who has been hired by the local fast food joint to build their newest ball pit in the play area. As such, he is working on researching the bounciness of different balls so as to optimize the pit. He is running an experiment to bounce different sizes of bouncy balls, and then fitting lines to the data points he records. He has heard of linear regression, but needs your help to implement a version of linear regression in Python."
   ]
  },
  {
   "cell_type": "markdown",
   "id": "b3cd60db",
   "metadata": {},
   "source": [
    "The line we will end up with will have a formula that looks like:\n",
    "    y=m*x+b\n",
    "where m is the slope of the line and b is the intercept, where the line crosses the y-axis.\n",
    "\n",
    "Create a function called get_y() that takes in m, b, and x. It should return what the y value would be for that x on that line!"
   ]
  },
  {
   "cell_type": "code",
   "execution_count": 6,
   "id": "30fed85d",
   "metadata": {},
   "outputs": [
    {
     "name": "stdout",
     "output_type": "stream",
     "text": [
      "7\n",
      "25\n"
     ]
    }
   ],
   "source": [
    "def get_y(m,b,x):\n",
    "    y=m*x+b\n",
    "    return y\n",
    "print(get_y(1, 0, 7))\n",
    "print(get_y(5, 10, 3))"
   ]
  },
  {
   "cell_type": "markdown",
   "id": "fdfafd76",
   "metadata": {},
   "source": [
    "Reggie wants to try a bunch of different m values and b values and see which line produces the least error. To calculate the error between a point and a line, he wants a function called calculate_error(), which will take in m, b, and an [x, y] point called point and return the distance between the line and the point."
   ]
  },
  {
   "cell_type": "code",
   "execution_count": 16,
   "id": "5557e73f",
   "metadata": {},
   "outputs": [
    {
     "name": "stdout",
     "output_type": "stream",
     "text": [
      "0\n",
      "1\n",
      "1\n",
      "5\n"
     ]
    }
   ],
   "source": [
    "def calculate_error(m, b, point):\n",
    "    x_point = point[0]\n",
    "    y_point = point[1]\n",
    "    y_line = get_y(m, b, x_point)\n",
    "    return abs(y_line-y_point)\n",
    "\n",
    "print(calculate_error(1, 0, (3, 3)))\n",
    "print(calculate_error(1, 0, (3, 4)))\n",
    "print(calculate_error(1, -1, (3, 3)))\n",
    "print(calculate_error(-1, 1, (3, 3)))"
   ]
  },
  {
   "cell_type": "markdown",
   "id": "6c3cedec",
   "metadata": {},
   "source": [
    "Reggie’s datasets will be sets of points. For example, he ran an experiment comparing the width of bouncy balls to how high they bounce:\n",
    "\n",
    "datapoints = [(1, 2), (2, 0), (3, 4), (4, 4), (5, 3)]\n",
    "The first datapoint, (1, 2), means that his 1cm bouncy ball bounced 2 meters. The 4cm bouncy ball bounced 4 meters.\n",
    "\n",
    "As we try to fit a line to this data, we will need a function called calculate_all_error, which takes m and b that describe a line, and points, a set of data like the example above.\n",
    "\n",
    "calculate_all_error should iterate through each point in points and calculate the error from that point to the line (using calculate_error). It should keep a running total of the error, and then return that total after the loop."
   ]
  },
  {
   "cell_type": "code",
   "execution_count": 17,
   "id": "722ac8c7",
   "metadata": {},
   "outputs": [
    {
     "name": "stdout",
     "output_type": "stream",
     "text": [
      "0\n",
      "4\n",
      "4\n",
      "18\n"
     ]
    }
   ],
   "source": [
    "def calculate_all_error(m, b, points):\n",
    "    total_error = 0\n",
    "    for point in points:\n",
    "        total_error += calculate_error(m, b, point)\n",
    "    return total_error\n",
    "#every point in this dataset lies upon y=x, so the total error should be zero:\n",
    "datapoints = [(1, 1), (3, 3), (5, 5), (-1, -1)]\n",
    "print(calculate_all_error(1, 0, datapoints))\n",
    "\n",
    "#every point in this dataset is 1 unit away from y = x + 1, so the total error should be 4:\n",
    "datapoints = [(1, 1), (3, 3), (5, 5), (-1, -1)]\n",
    "print(calculate_all_error(1, 1, datapoints))\n",
    "\n",
    "#every point in this dataset is 1 unit away from y = x - 1, so the total error should be 4:\n",
    "datapoints = [(1, 1), (3, 3), (5, 5), (-1, -1)]\n",
    "print(calculate_all_error(1, -1, datapoints))\n",
    "\n",
    "\n",
    "#the points in this dataset are 1, 5, 9, and 3 units away from y = -x + 1, respectively, so total error should be\n",
    "# 1 + 5 + 9 + 3 = 18\n",
    "datapoints = [(1, 1), (3, 3), (5, 5), (-1, -1)]\n",
    "print(calculate_all_error(-1, 1, datapoints))"
   ]
  },
  {
   "cell_type": "markdown",
   "id": "f00f2fb4",
   "metadata": {},
   "source": [
    "The way Reggie wants to find a line of best fit is by trial and error. He wants to try a bunch of different slopes (m values) and a bunch of different intercepts (b values) and see which one produces the smallest error value for his dataset.\n",
    "\n",
    "Using a list comprehension, let’s create a list of possible m values to try. Make the list possible_ms that goes from -10 to 10 inclusive, in increments of 0.1."
   ]
  },
  {
   "cell_type": "code",
   "execution_count": 18,
   "id": "b7437d1c",
   "metadata": {},
   "outputs": [],
   "source": [
    "possible_ms = [i/10-10 for i in range(201)]"
   ]
  },
  {
   "cell_type": "markdown",
   "id": "3c2418d9",
   "metadata": {},
   "source": [
    "Now, let’s make a list of possible_bs to check that would be the values from -20 to 20 inclusive, in steps of 0.1:"
   ]
  },
  {
   "cell_type": "code",
   "execution_count": 19,
   "id": "cd1c4e3a",
   "metadata": {},
   "outputs": [],
   "source": [
    "possible_bs = [i/10-20 for i in range(401)]"
   ]
  },
  {
   "cell_type": "markdown",
   "id": "c07af686",
   "metadata": {},
   "source": [
    "We are going to find the smallest error. First, we will make every possible y = m*x + b line by pairing all of the possible ms with all of the possible bs. Then, we will see which y = m*x + b line produces the smallest total error with the set of data stored in datapoint.\n",
    "\n",
    "First, create the variables that we will be optimizing:\n",
    "\n",
    "smallest_error — this should start at infinity (float(\"inf\")) so that any error we get at first will be smaller than our value of smallest_error\n",
    "best_m — we can start this at 0\n",
    "best_b — we can start this at 0\n",
    "We want to:\n",
    "\n",
    "Iterate through each element m in possible_ms\n",
    "For every m value, take every b value in possible_bs\n",
    "If the value returned from calculate_all_error on this m value, this b value, and datapoints is less than our current smallest_error,\n",
    "Set best_m and best_b to be these values, and set smallest_error to this error.\n",
    "By the end of these nested loops, the smallest_error should hold the smallest error we have found, and best_m and best_b should be the values that produced that smallest error value.\n",
    "\n",
    "Print out best_m, best_b and smallest_error after the loops."
   ]
  },
  {
   "cell_type": "code",
   "execution_count": 20,
   "id": "4569c4d9",
   "metadata": {},
   "outputs": [
    {
     "name": "stdout",
     "output_type": "stream",
     "text": [
      "0.3000000000000007 1.6999999999999993 5.0\n"
     ]
    }
   ],
   "source": [
    "datapoints = [(1, 2), (2, 0), (3, 4), (4, 4), (5, 3)]\n",
    "smallest_error = float(\"inf\")\n",
    "best_m = 0\n",
    "best_b = 0\n",
    "for m in possible_ms:\n",
    "    for b in possible_bs:\n",
    "        error = calculate_all_error(m, b, datapoints)\n",
    "        if error < smallest_error:\n",
    "            best_m = m\n",
    "            best_b = b\n",
    "            smallest_error = error\n",
    "print(best_m, best_b, smallest_error)"
   ]
  },
  {
   "cell_type": "markdown",
   "id": "6cfaa5a0",
   "metadata": {},
   "source": [
    "Now we have seen that for this set of observations on the bouncy balls, the line that fits the data best has an m of 0.3 and a b of 1.7:\n",
    "\n",
    "y = 0.3x + 1.7\n",
    "This line produced a total error of 5.\n",
    "\n",
    "Using this m and this b, what does your line predict the bounce height of a ball with a width of 6 to be?\n",
    "In other words, what is the output of get_y() when we call it with:\n",
    "\n",
    "m = 0.3\n",
    "b = 1.7\n",
    "x = 6\n",
    "print(get_y(0.3, 1.7, 6))\n",
    "3.5\n",
    "Our model predicts that the 6cm ball will bounce 3.5m.\n",
    "\n",
    "Now, Reggie can use this model to predict the bounce of all kinds of sizes of balls he may choose to include in the ball pit!"
   ]
  },
  {
   "cell_type": "code",
   "execution_count": 22,
   "id": "94cadb18",
   "metadata": {
    "scrolled": true
   },
   "outputs": [
    {
     "name": "stdout",
     "output_type": "stream",
     "text": [
      "3.5\n"
     ]
    }
   ],
   "source": [
    "def get_bounce_height(x):\n",
    "    return get_y(0.3, 1.7, x)\n",
    "print(get_bounce_height(6))"
   ]
  },
  {
   "cell_type": "markdown",
   "id": "043207cb",
   "metadata": {},
   "source": [
    "Our model predicts that the 6cm ball will bounce 4.0m.\n",
    "\n",
    "Now, Reggie can use this model to predict the bounce of all kinds of sizes of balls he may choose to include in the ball pit!"
   ]
  }
 ],
 "metadata": {
  "kernelspec": {
   "display_name": "Python 3 (ipykernel)",
   "language": "python",
   "name": "python3"
  },
  "language_info": {
   "codemirror_mode": {
    "name": "ipython",
    "version": 3
   },
   "file_extension": ".py",
   "mimetype": "text/x-python",
   "name": "python",
   "nbconvert_exporter": "python",
   "pygments_lexer": "ipython3",
   "version": "3.11.4"
  }
 },
 "nbformat": 4,
 "nbformat_minor": 5
}
