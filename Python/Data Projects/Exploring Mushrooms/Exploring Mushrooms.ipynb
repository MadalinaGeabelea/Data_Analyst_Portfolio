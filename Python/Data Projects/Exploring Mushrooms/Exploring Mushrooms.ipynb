{
 "cells": [
  {
   "cell_type": "markdown",
   "id": "becf0479",
   "metadata": {},
   "source": [
    "# Exploring Mushrooms"
   ]
  },
  {
   "cell_type": "markdown",
   "id": "d92247dc",
   "metadata": {},
   "source": [
    "When asked to think of a mushroom, you might imagine the following:\n",
    "\n",
    "![this shows a photo of some generic button mushrooms in a forest.](https://static-assets.codecademy.com/Paths/data-analyst-career-path/mushroom-analysis-project/generic_mushroom.jpg)\n",
    "\n",
    "It's a beige, convex mushroom top with a uniform, thick stem. Maybe you thought of it cut up on a slice of delicious pizza or braised with sauce over rice. Regardless, you most likely did not consider this:\n",
    "\n",
    "![A photo of some beautiful mushrooms in a forest. They do not have the signature \"mushroom top\" and have visually appealing grooves that make them look almost like floral.](https://static-assets.codecademy.com/Paths/data-analyst-career-path/mushroom-analysis-project/pretty_mushroom.jpg)\n",
    "\n",
    "Mushrooms exist in a variety of different colors, shapes, sizes, textures, etc. In this project, you will analyze an extensive mushroom dataset from [UCI](https://archive.ics.uci.edu/ml/datasets/Mushroom) using bar charts and acquaint yourself with the diverse array of mushrooms that exist worldwide."
   ]
  },
  {
   "cell_type": "markdown",
   "id": "3257ef1c",
   "metadata": {},
   "source": [
    "## Looking Over the Data"
   ]
  },
  {
   "cell_type": "markdown",
   "id": "8e2e771d",
   "metadata": {},
   "source": [
    "1. Take a look at the code block below where we've loaded **mushroom_data.csv**. It contains 23 columns of data describing thousands of mushrooms. In the output below the code block, data about five different mushrooms is shown.\n",
    "\n",
    "   Read through this table to get a sense of the type(s) of variables in the data and the structure of the table. It may also be helpful to read through the information on [Kaggle](https://www.kaggle.com/uciml/mushroom-classification).\n",
    "   \n",
    "   Before you move on to plotting any of this data, answer the following questions:\n",
    "   * What type(s) of variables does **mushroom_data.csv** contain?\n",
    "   * How many of the variables can we visualize effectively with a bar graph?"
   ]
  },
  {
   "cell_type": "code",
   "execution_count": null,
   "id": "ea43c341",
   "metadata": {},
   "outputs": [],
   "source": [
    "import matplotlib.pyplot as plt\n",
    "import pandas as pd\n",
    "import seaborn as sns\n",
    "\n",
    "# load in the data\n",
    "df = pd.read_csv(\"mushroom_data.csv\")\n",
    "print(df.head())"
   ]
  },
  {
   "cell_type": "markdown",
   "id": "5c7069b1",
   "metadata": {},
   "source": [
    "**Answer:** If you read through the header of **mushroom_data.csv**, you will see that every single variable is a categorical variable. Therefore, you can create bar charts for the counts of every variable in the csv file."
   ]
  },
  {
   "cell_type": "markdown",
   "id": "0b6d77f3",
   "metadata": {},
   "source": [
    "2. There are 23 variables in this dataset (one for each column). One of them (the `Bruises` variable) has `True` or `False` responses. This will create problems when we try to plot this column later on. \n",
    "\n",
    "   One way we can fix this issue is by converting each `True` and `False` value to a string. Iterate through the elements in the `Bruises` variable and convert each value to a string using the `str()` method.\n",
    "   \n",
    "   Now, all our variables are of `object` types, which means we can graph them. Graphing each one individually would be tedious; luckily, you will use loops.\n",
    "\n",
    "   If you look at the code block below, you will see an attribute called `columns`. This attribute returns the name of each variable in **mushroom_data.csv**.\n",
    "   - Create a loop that traverses each `column` in the `columns` list.\n",
    "   - Print each `column` in `columns` while iterating through the loop. This is to check that your `for` loop is working correctly."
   ]
  },
  {
   "cell_type": "code",
   "execution_count": null,
   "id": "368b8fd0",
   "metadata": {},
   "outputs": [],
   "source": [
    "# list of all column headers\n",
    "for index in range(0,len(df['Bruises'])):\n",
    "    df['Bruises'][index] = str(df['Bruises'][index])\n",
    "columns = df.columns.tolist()\n",
    "\n",
    "for column in columns:\n",
    "    print(column)"
   ]
  },
  {
   "cell_type": "markdown",
   "id": "e9a7de8a",
   "metadata": {},
   "source": [
    "3. In the output above, you should see 23 column names pop up starting with `class` and ending with `habitat`.\n",
    "\n",
    "   Great! Your `for` loop is working, so feel free to comment out your print statement.\n",
    "   \n",
    "   You can now plot your data using the `.countplot()` method from the seaborn library. Follow these steps:\n",
    "   - Call `.countplot()` in the `for` loop\n",
    "   - Use `column` and the `df` pandas DataFrame to graph the value counts of each variable in **mushroom_data.csv**.\n",
    "   \n",
    "   Please wait until the next task to use `plt.show()`."
   ]
  },
  {
   "cell_type": "code",
   "execution_count": null,
   "id": "26c646e1",
   "metadata": {},
   "outputs": [],
   "source": [
    "for column in columns:\n",
    "    sns.countplot(x=column, data=df)"
   ]
  },
  {
   "cell_type": "markdown",
   "id": "34b9c49f",
   "metadata": {},
   "source": [
    "4. At the end of your `for` loop, add the following lines of code to show your plots:\n",
    "\n",
    "   ```py\n",
    "   plt.show()\n",
    "   plt.clf()\n",
    "   ```\n",
    "   \n",
    "   The `.show()` Matplotlib method should look familiar from the previous lesson, but [.clf()](https://matplotlib.org/3.1.1/api/_as_gen/matplotlib.pyplot.clf.html) might be unfamiliar. This method is also from the Matplotlib library. It clears any previous figure formatting. This will keep any graphs you are plotting from bunching up on each other. Instead, your plots will be neatly stacked on top of each other with spacing ideal for viewing."
   ]
  },
  {
   "cell_type": "code",
   "execution_count": null,
   "id": "fa1dc46a",
   "metadata": {},
   "outputs": [],
   "source": [
    "for column in columns:\n",
    "    # print(column)\n",
    "    sns.countplot(x = df[column], data=df)\n",
    "    plt.show()\n",
    "    plt.clf()"
   ]
  },
  {
   "cell_type": "markdown",
   "id": "3e043afd",
   "metadata": {},
   "source": [
    "5. After using `plt.show()` and `plt.clf()`, 23 plots should appear in the output below the previous code block. Scroll through each of the graphs, and see what sort of trends you immediately see.\n",
    "   - What variables have an obvious mode?\n",
    "   - Do any of them have a notably diverse array of values?\n",
    "   - What habitat are you most likely to find mushrooms in?\n",
    "   \n",
    "   What questions did you have before seeing the graphs? What questions are popping up now that you see them?\n",
    "   \n",
    "   In the next few steps, you will clean up the graphs and make them more readable and useful for finding patterns."
   ]
  },
  {
   "cell_type": "markdown",
   "id": "25d99da4",
   "metadata": {},
   "source": [
    "## Cleaning the Bar Graphs"
   ]
  },
  {
   "cell_type": "markdown",
   "id": "9478c91d",
   "metadata": {},
   "source": [
    "6. As you scroll through the graphs, you may notice some imperfections. For example, some of the x-axis labels overlap each other. The font size for the labels along the x-axis is also pretty small, making them tough to read.\n",
    "\n",
    "   Let's fix these up with two lines of code.\n",
    "   \n",
    "   Following your `.countplot()` method, add the following two lines of code in your `for` loop:\n",
    "   ```py\n",
    "   # rotates the value labels slightly so they don't overlap, also slightly increases font size\n",
    "   plt.xticks(rotation=30, fontsize=10)\n",
    "   # increases the variable label font size slightly to increase readability\n",
    "   plt.xlabel(column, fontsize=12)\n",
    "   ```"
   ]
  },
  {
   "cell_type": "code",
   "execution_count": null,
   "id": "79f159bb",
   "metadata": {},
   "outputs": [],
   "source": [
    "for column in columns:\n",
    "    # print(column)\n",
    "    sns.countplot(x = df[column], data=df)\n",
    "    # rotates the value labels slightly so they don't overlap, also slightly increases font size\n",
    "    plt.xticks(rotation=30, fontsize=10)\n",
    "    # increases the variable label font size slightly to increase readability\n",
    "    plt.xlabel(column, fontsize=12)\n",
    "    plt.show()\n",
    "    plt.clf()"
   ]
  },
  {
   "cell_type": "markdown",
   "id": "9414c008",
   "metadata": {},
   "source": [
    "7. One more thing you can do to increase readability is to add an informative title. Using `.title()` from the Matplotlib library, give your graph the following title:\n",
    "\n",
    "   ```\n",
    "   {Variable Name} Value Counts\n",
    "   ```\n",
    "   \n",
    "   Use `column` to capture each column name. Be sure to call this method after `.countplot()` inside of your `for` loop."
   ]
  },
  {
   "cell_type": "code",
   "execution_count": null,
   "id": "e72857c5",
   "metadata": {},
   "outputs": [],
   "source": [
    "for column in columns:\n",
    "    # print(column)\n",
    "    sns.countplot(x = df[column], data=df)\n",
    "    # rotates the value labels slightly so they don't overlap, also slightly increases font size\n",
    "    plt.xticks(rotation=30, fontsize=10)\n",
    "    # increases the variable label font size slightly to increase readability\n",
    "    plt.xlabel(column, fontsize=12)\n",
    "    plt.title(column + \" Value Counts\")\n",
    "    plt.show()\n",
    "    plt.clf()"
   ]
  },
  {
   "cell_type": "markdown",
   "id": "4de435c3",
   "metadata": {},
   "source": [
    "## Ordering the Bars for Analysis"
   ]
  },
  {
   "cell_type": "markdown",
   "id": "a9a4e0f4",
   "metadata": {},
   "source": [
    "8. The graphs are readable, but you can take it another step further.\n",
    "   - Add the `order` parameter to your `.countplot()` method.\n",
    "   - Set the parameter to that the value counts in each column are in descending order.\n",
    "   \n",
    "   You will need to use the `.value_counts()` pandas method and the `.index` pandas object."
   ]
  },
  {
   "cell_type": "code",
   "execution_count": null,
   "id": "7d14c61a",
   "metadata": {},
   "outputs": [],
   "source": [
    "for column in columns:\n",
    "    # print(column)\n",
    "    sns.countplot(x = df[column], data=df, order=df[column].value_counts().index)\n",
    "    # rotates the value labels slightly so they don't overlap, also slightly increases font size\n",
    "    plt.xticks(rotation=30, fontsize=10)\n",
    "    # increases the variable label font size slightly to increase readability\n",
    "    plt.xlabel(column, fontsize=12)\n",
    "    plt.title(column + \" Value Counts\")\n",
    "    plt.show()\n",
    "    plt.clf()"
   ]
  }
 ],
 "metadata": {
  "kernelspec": {
   "display_name": "Python 3 (ipykernel)",
   "language": "python",
   "name": "python3"
  },
  "language_info": {
   "codemirror_mode": {
    "name": "ipython",
    "version": 3
   },
   "file_extension": ".py",
   "mimetype": "text/x-python",
   "name": "python",
   "nbconvert_exporter": "python",
   "pygments_lexer": "ipython3",
   "version": "3.11.4"
  }
 },
 "nbformat": 4,
 "nbformat_minor": 5
}
