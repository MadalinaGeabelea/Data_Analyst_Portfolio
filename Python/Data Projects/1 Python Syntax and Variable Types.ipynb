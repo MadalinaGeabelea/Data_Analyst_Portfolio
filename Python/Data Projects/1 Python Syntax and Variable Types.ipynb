{
 "cells": [
  {
   "cell_type": "markdown",
   "id": "89c3ce9a",
   "metadata": {},
   "source": [
    "# Python Syntax: Medical Insurance Project"
   ]
  },
  {
   "cell_type": "markdown",
   "id": "798f5007",
   "metadata": {},
   "source": [
    "# Setting up Factors"
   ]
  },
  {
   "cell_type": "markdown",
   "id": "1c21afb1",
   "metadata": {},
   "source": [
    "1. Our first step is to create the variables for each factor we will consider when estimating medical insurance costs. These are the variables we will need to create:\n",
    "\n",
    "age: age of the individual in years\n",
    "sex: 0 for female, 1 for male*\n",
    "bmi: individual’s body mass index\n",
    "num_of_children: number of children the individual has\n",
    "smoker: 0 for a non-smoker, 1 for a smoker\n",
    "Create the following variables for a 28-year-old, nonsmoking woman who has three children and a BMI of 26.2."
   ]
  },
  {
   "cell_type": "code",
   "execution_count": 12,
   "id": "13166b43",
   "metadata": {},
   "outputs": [],
   "source": [
    "age=28\n",
    "sex=0\n",
    "num_of_children=3\n",
    "smoker=0\n",
    "bmi=26.2"
   ]
  },
  {
   "cell_type": "markdown",
   "id": "51847d6f",
   "metadata": {},
   "source": [
    "2. After the declaration of variables, create a variable called insurance_cost that utilizes the following formula:\n",
    "insurance_cost=250∗age−128∗sex+370∗bmi+425∗num_of_children+24000∗smoker−12500"
   ]
  },
  {
   "cell_type": "code",
   "execution_count": 13,
   "id": "476bffc1",
   "metadata": {},
   "outputs": [],
   "source": [
    "insurance_cost=250*age-128*sex+370*bmi+425*num_of_children+24000*smoker-12500"
   ]
  },
  {
   "cell_type": "markdown",
   "id": "3b22c2a2",
   "metadata": {},
   "source": [
    "3. Let’s display this value in an informative way."
   ]
  },
  {
   "cell_type": "code",
   "execution_count": 14,
   "id": "2ac522ca",
   "metadata": {},
   "outputs": [
    {
     "name": "stdout",
     "output_type": "stream",
     "text": [
      "This person's insurance cost is 5469.0 dollars.\n"
     ]
    }
   ],
   "source": [
    "print(\"This person's insurance cost is \"+str(insurance_cost)+\" dollars.\")"
   ]
  },
  {
   "cell_type": "markdown",
   "id": "3eb7b991",
   "metadata": {},
   "source": [
    "# Looking at Age Factor"
   ]
  },
  {
   "cell_type": "markdown",
   "id": "0ffda7fe",
   "metadata": {},
   "source": [
    "4. We have seen how our formula can estimate costs for one individual. Now let’s play with some individual factors to see what role each one plays in our estimation! Let’s start with the age factor. Using a plus-equal operator, add 4 years to our age variable."
   ]
  },
  {
   "cell_type": "code",
   "execution_count": 15,
   "id": "d96d2af1",
   "metadata": {},
   "outputs": [],
   "source": [
    "age2=age+4"
   ]
  },
  {
   "cell_type": "markdown",
   "id": "8f99ecbc",
   "metadata": {},
   "source": [
    "5. Now that we have changed our age value, we want to recalculate our insurance cost. Using a new variable called new_insurance_cost underneath the expression that increased age by 4."
   ]
  },
  {
   "cell_type": "code",
   "execution_count": 16,
   "id": "a2bae2f6",
   "metadata": {},
   "outputs": [],
   "source": [
    "new_insurance_cost=250*age2-128*sex+370*bmi+425*num_of_children+24000*smoker-12500"
   ]
  },
  {
   "cell_type": "markdown",
   "id": "8bcead65",
   "metadata": {},
   "source": [
    "6. Next, we want to find the difference between our new_insurance_cost and insurance_cost. To do this, let’s create a new variable called change_in_insurance_cost and set it equal to the difference between new_insurance_cost and insurance_cost."
   ]
  },
  {
   "cell_type": "code",
   "execution_count": 17,
   "id": "aa843e48",
   "metadata": {},
   "outputs": [
    {
     "name": "stdout",
     "output_type": "stream",
     "text": [
      "The change in cost of insurance after increasing the age by 4 years is 1000.0 dollars.\n"
     ]
    }
   ],
   "source": [
    "change_in_insurance_cost=new_insurance_cost - insurance_cost\n",
    "print('The change in cost of insurance after increasing the age by 4 years is '+str(change_in_insurance_cost)+\" dollars.\")"
   ]
  },
  {
   "cell_type": "markdown",
   "id": "a6be071d",
   "metadata": {},
   "source": [
    "# Looking at BMI Factor"
   ]
  },
  {
   "cell_type": "markdown",
   "id": "c6b8cc65",
   "metadata": {},
   "source": [
    "7. Now that you have looked at the age factor, let’s move onto another one:BMI. Create a new BMI variable that has a value with 3.1 more than the first one."
   ]
  },
  {
   "cell_type": "code",
   "execution_count": 19,
   "id": "f0763dbc",
   "metadata": {},
   "outputs": [],
   "source": [
    "bmi2=bmi+3.1"
   ]
  },
  {
   "cell_type": "markdown",
   "id": "2922b87e",
   "metadata": {},
   "source": [
    "8. Now let’s find out how a change in BMI affects insurance costs. Our next steps are pretty much the same as we have done before when looking at age."
   ]
  },
  {
   "cell_type": "markdown",
   "id": "918a0448",
   "metadata": {},
   "source": [
    "# Looking at Male vs. Female Factor"
   ]
  },
  {
   "cell_type": "markdown",
   "id": "6bd2c7d9",
   "metadata": {},
   "source": [
    "9. Create a sex variable that represents a male instead of a female and check how the insurance cost changes."
   ]
  },
  {
   "cell_type": "code",
   "execution_count": 20,
   "id": "8f3802d8",
   "metadata": {},
   "outputs": [
    {
     "name": "stdout",
     "output_type": "stream",
     "text": [
      "The change in cost of insurance from a female to a male is -128.0 dollars.\n"
     ]
    }
   ],
   "source": [
    "sex2=1\n",
    "new_insurance_cost2=250*age-128*sex2+370*bmi+425*num_of_children+24000*smoker-12500\n",
    "change_in_insurance_cost2=new_insurance_cost2 - insurance_cost\n",
    "print('The change in cost of insurance from a female to a male is '+str(change_in_insurance_cost2)+\" dollars.\")"
   ]
  },
  {
   "cell_type": "markdown",
   "id": "bb2b1506",
   "metadata": {},
   "source": [
    "# Looking at Smoker VS Non-Smoker"
   ]
  },
  {
   "cell_type": "code",
   "execution_count": 21,
   "id": "eee30eaa",
   "metadata": {},
   "outputs": [
    {
     "name": "stdout",
     "output_type": "stream",
     "text": [
      "The change in cost of insurance from a non-smoker to a smoker is 24000.0 dollars.\n"
     ]
    }
   ],
   "source": [
    "smoker2=1\n",
    "new_insurance_cost3=250*age-128*sex+370*bmi+425*num_of_children+24000*smoker2-12500\n",
    "change_in_insurance_cost3=new_insurance_cost3 - insurance_cost\n",
    "print('The change in cost of insurance from a non-smoker to a smoker is '+str(change_in_insurance_cost3)+\" dollars.\")"
   ]
  }
 ],
 "metadata": {
  "kernelspec": {
   "display_name": "Python 3 (ipykernel)",
   "language": "python",
   "name": "python3"
  },
  "language_info": {
   "codemirror_mode": {
    "name": "ipython",
    "version": 3
   },
   "file_extension": ".py",
   "mimetype": "text/x-python",
   "name": "python",
   "nbconvert_exporter": "python",
   "pygments_lexer": "ipython3",
   "version": "3.11.4"
  }
 },
 "nbformat": 4,
 "nbformat_minor": 5
}
