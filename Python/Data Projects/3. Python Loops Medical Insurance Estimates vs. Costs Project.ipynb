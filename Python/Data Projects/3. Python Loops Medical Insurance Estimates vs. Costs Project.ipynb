{
 "cells": [
  {
   "cell_type": "markdown",
   "id": "fc6f26fc",
   "metadata": {},
   "source": [
    "1. First, let’s take a look at the three lists:\n",
    "\n",
    "names stores the names of seven individuals.\n",
    "estimated_insurance_costs stores the estimated medical insurance costs for the individuals.\n",
    "actual_insurance_costs stores the actual insurance costs paid by the individuals.\n",
    "\n",
    "We want to calculate the average insurance cost each person paid. We’ll start by adding up all of the insurance costs."
   ]
  },
  {
   "cell_type": "code",
   "execution_count": 1,
   "id": "835556e5",
   "metadata": {},
   "outputs": [],
   "source": [
    "names = [\"Judith\", \"Abel\", \"Tyson\", \"Martha\", \"Beverley\", \"David\", \"Anabel\"]\n",
    "estimated_insurance_costs = [1000.0, 2000.0, 3000.0, 4000.0, 5000.0, 6000.0, 7000.0]\n",
    "actual_insurance_costs = [1100.0, 2200.0, 3300.0, 4400.0, 5500.0, 6600.0, 7700.0]"
   ]
  },
  {
   "cell_type": "code",
   "execution_count": 2,
   "id": "2e22ead7",
   "metadata": {},
   "outputs": [
    {
     "name": "stdout",
     "output_type": "stream",
     "text": [
      "Average insurance cost: 4000.0 dollars.\n"
     ]
    }
   ],
   "source": [
    "total_cost=0\n",
    "for insurance_cost in estimated_insurance_costs:\n",
    "  total_cost += insurance_cost\n",
    "average_cost = total_cost/len(actual_insurance_costs)\n",
    "print(\"Average insurance cost: \" + str(average_cost) + \" dollars.\")"
   ]
  },
  {
   "cell_type": "markdown",
   "id": "5cbb6388",
   "metadata": {},
   "source": [
    "2. Using Range in Loops\n",
    "\n",
    "For each individual in names, we want to determine whether their insurance cost is above or below average."
   ]
  },
  {
   "cell_type": "code",
   "execution_count": 6,
   "id": "af3b27e5",
   "metadata": {},
   "outputs": [
    {
     "name": "stdout",
     "output_type": "stream",
     "text": [
      "The insurance cost for Judith is 1100.0 dollars.\n",
      "The insurance cost for Judith is below average.\n",
      "The insurance cost for Abel is 2200.0 dollars.\n",
      "The insurance cost for Abel is below average.\n",
      "The insurance cost for Tyson is 3300.0 dollars.\n",
      "The insurance cost for Tyson is below average.\n",
      "The insurance cost for Martha is 4400.0 dollars.\n",
      "The insurance cost for Martha is above average.\n",
      "The insurance cost for Beverley is 5500.0 dollars.\n",
      "The insurance cost for Beverley is above average.\n",
      "The insurance cost for David is 6600.0 dollars.\n",
      "The insurance cost for David is above average.\n",
      "The insurance cost for Anabel is 7700.0 dollars.\n",
      "The insurance cost for Anabel is above average.\n"
     ]
    }
   ],
   "source": [
    "for i in range(len(names)):\n",
    "  name = names[i]\n",
    "  insurance_cost = actual_insurance_costs[i]\n",
    "  print(\"The insurance cost for \" + name + \" is \" + str(insurance_cost) + \" dollars.\")\n",
    "  \n",
    "  # checks if insurance cost is above average\n",
    "  if insurance_cost > average_cost:\n",
    "    print(\"The insurance cost for \" + name + \" is above average.\")\n",
    "  \n",
    "  # checks if insurance cost is below average\n",
    "  elif insurance_cost < average_cost:\n",
    "    print(\"The insurance cost for \" + name + \" is below average.\")\n",
    "\n",
    "  # checks if insurance cost is equal to the average\n",
    "  else:\n",
    "    print(\"The insurance cost for \" + name + \" is equal to the average.\")\n",
    "    "
   ]
  },
  {
   "cell_type": "markdown",
   "id": "0c5a305a",
   "metadata": {},
   "source": [
    "3. Creating a List Comprehension\n",
    "\n",
    "Using a list comprehension, we'll create a new list called updated_estimated_costs, which has each element in estimated_insurance_costs multiplied by 11/10."
   ]
  },
  {
   "cell_type": "code",
   "execution_count": 8,
   "id": "ea9c4b57",
   "metadata": {},
   "outputs": [
    {
     "name": "stdout",
     "output_type": "stream",
     "text": [
      "[1100.0, 2200.0, 3300.0, 4400.0, 5500.0, 6600.0, 7700.0]\n"
     ]
    }
   ],
   "source": [
    "updated_estimated_costs = [estimated_cost * 11/10 for estimated_cost in estimated_insurance_costs]\n",
    "print(updated_estimated_costs)"
   ]
  }
 ],
 "metadata": {
  "kernelspec": {
   "display_name": "Python 3 (ipykernel)",
   "language": "python",
   "name": "python3"
  },
  "language_info": {
   "codemirror_mode": {
    "name": "ipython",
    "version": 3
   },
   "file_extension": ".py",
   "mimetype": "text/x-python",
   "name": "python",
   "nbconvert_exporter": "python",
   "pygments_lexer": "ipython3",
   "version": "3.11.4"
  }
 },
 "nbformat": 4,
 "nbformat_minor": 5
}
