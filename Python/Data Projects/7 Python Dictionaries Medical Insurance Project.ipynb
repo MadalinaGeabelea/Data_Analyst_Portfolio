{
 "cells": [
  {
   "cell_type": "markdown",
   "id": "d035007e",
   "metadata": {},
   "source": [
    "We have been asked to create a program that organizes and updates medical records efficiently."
   ]
  },
  {
   "cell_type": "markdown",
   "id": "110b0494",
   "metadata": {},
   "source": [
    "We would like to keep a record of medical patients and their insurance costs."
   ]
  },
  {
   "cell_type": "code",
   "execution_count": 1,
   "id": "cabf8017",
   "metadata": {},
   "outputs": [
    {
     "name": "stdout",
     "output_type": "stream",
     "text": [
      "Average Insurance Cost: 8336.4\n"
     ]
    }
   ],
   "source": [
    "medical_costs = {}\n",
    "medical_costs[\"Marina\"] = 6607.0\n",
    "medical_costs[\"Vinay\"] = 3225.0\n",
    "medical_costs.update({\"Connie\": 8886.0, \"Isaac\": 16444.0, \"Valentina\": 6420.0})\n",
    "medical_costs[\"Vinay\"] = 3325.0\n",
    "total_cost = 0\n",
    "for cost in medical_costs.values():\n",
    "  total_cost += cost\n",
    "average_cost = total_cost/len(medical_costs)\n",
    "print(\"Average Insurance Cost: \" + str(average_cost))"
   ]
  },
  {
   "cell_type": "markdown",
   "id": "b13faa4b",
   "metadata": {},
   "source": [
    "List Comprehension to Dictionary"
   ]
  },
  {
   "cell_type": "code",
   "execution_count": 3,
   "id": "b03304a3",
   "metadata": {},
   "outputs": [
    {
     "name": "stdout",
     "output_type": "stream",
     "text": [
      "{'Marina': 27, 'Vinay': 24, 'Connie': 43, 'Isaac': 35, 'Valentina': 52}\n",
      "Marina's age is 27\n"
     ]
    }
   ],
   "source": [
    "names = [\"Marina\", \"Vinay\", \"Connie\", \"Isaac\", \"Valentina\"]\n",
    "ages = [27, 24, 43, 35, 52]\n",
    "zipped_ages = zip(names, ages)\n",
    "names_to_ages = {key: value for key, value in zipped_ages}\n",
    "print(names_to_ages)\n",
    "marina_age = names_to_ages.get(\"Marina\", None)\n",
    "print(\"Marina's age is \" + str(marina_age))"
   ]
  },
  {
   "cell_type": "markdown",
   "id": "03715712",
   "metadata": {},
   "source": [
    "Using a Dictionary to create a medical database"
   ]
  },
  {
   "cell_type": "code",
   "execution_count": 6,
   "id": "cdaa6dbb",
   "metadata": {},
   "outputs": [
    {
     "name": "stdout",
     "output_type": "stream",
     "text": [
      "{'Marina': {'Age': 27, 'Sex': 'Female', 'BMI': 31.1, 'Children': 2, 'Smoker': 'Non-smoker', 'Insurance_cost': 6607.0}, 'Vinay': {'Age': 24, 'Sex': 'Male', 'BMI': 26.9, 'Children': 0, 'Smoker': 'Non-smoker', 'Insurance_cost': 3225.0}, 'Connie': {'Age': 43, 'Sex': 'Female', 'BMI': 25.3, 'Children': 3, 'Smoker': 'Non-smoker', 'Insurance_cost': 8886.0}, 'Isaac': {'Age': 35, 'Sex': 'Male', 'BMI': 20.6, 'Children': 4, 'Smoker': 'Smoker', 'Insurance_cost': 16444.0}, 'Valentina': {'Age': 52, 'Sex': 'Female', 'BMI': 18.7, 'Children': 1, 'Smoker': 'Non-smoker', 'Insurance_cost': 6420.0}}\n",
      "Connie's insurance cost is 8886.0 dollars.\n",
      "Marina is a 27 year old Female Non-smoker with a BMI of 31.1 and insurance cost of 6607.0\n",
      "Connie is a 43 year old Female Non-smoker with a BMI of 25.3 and insurance cost of 8886.0\n",
      "Isaac is a 35 year old Male Smoker with a BMI of 20.6 and insurance cost of 16444.0\n",
      "Valentina is a 52 year old Female Non-smoker with a BMI of 18.7 and insurance cost of 6420.0\n"
     ]
    }
   ],
   "source": [
    "medical_records = {}\n",
    "medical_records[\"Marina\"] = {\"Age\": 27, \"Sex\": \"Female\", \"BMI\": 31.1, \"Children\": 2, \"Smoker\": \"Non-smoker\", \"Insurance_cost\": 6607.0}\n",
    "medical_records[\"Vinay\"] = {\"Age\": 24, \"Sex\": \"Male\", \"BMI\": 26.9, \"Children\": 0, \"Smoker\": \"Non-smoker\", \"Insurance_cost\": 3225.0}\n",
    "medical_records[\"Connie\"] = {\"Age\": 43, \"Sex\": \"Female\", \"BMI\": 25.3, \"Children\": 3, \"Smoker\": \"Non-smoker\", \"Insurance_cost\": 8886.0}\n",
    "medical_records[\"Isaac\"] = {\"Age\": 35, \"Sex\": \"Male\", \"BMI\": 20.6, \"Children\": 4, \"Smoker\": \"Smoker\", \"Insurance_cost\": 16444.0}\n",
    "medical_records[\"Valentina\"] = {\"Age\": 52, \"Sex\": \"Female\", \"BMI\": 18.7, \"Children\": 1, \"Smoker\": \"Non-smoker\", \"Insurance_cost\": 6420.0}\n",
    "print(medical_records)\n",
    "print(\"Connie's insurance cost is \" + str(medical_records[\"Connie\"][\"Insurance_cost\"]) + \" dollars.\")\n",
    "medical_records.pop(\"Vinay\")\n",
    "for name, record in medical_records.items():\n",
    "  print(name + \" is a \" + str(record[\"Age\"]) + \\\n",
    "  \" year old \" + record[\"Sex\"] + \" \" + record[\"Smoker\"] \\\n",
    "  + \" with a BMI of \" + str(record[\"BMI\"]) + \\\n",
    "  \" and insurance cost of \" + str(record[\"Insurance_cost\"]))"
   ]
  }
 ],
 "metadata": {
  "kernelspec": {
   "display_name": "Python 3 (ipykernel)",
   "language": "python",
   "name": "python3"
  },
  "language_info": {
   "codemirror_mode": {
    "name": "ipython",
    "version": 3
   },
   "file_extension": ".py",
   "mimetype": "text/x-python",
   "name": "python",
   "nbconvert_exporter": "python",
   "pygments_lexer": "ipython3",
   "version": "3.11.4"
  }
 },
 "nbformat": 4,
 "nbformat_minor": 5
}
